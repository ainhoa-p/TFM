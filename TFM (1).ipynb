{
  "nbformat": 4,
  "nbformat_minor": 0,
  "metadata": {
    "colab": {
      "provenance": [],
      "collapsed_sections": [
        "dyE-_V1jLSXS"
      ]
    },
    "kernelspec": {
      "name": "python3",
      "display_name": "Python 3"
    },
    "language_info": {
      "name": "python"
    }
  },
  "cells": [
    {
      "cell_type": "markdown",
      "source": [
        "# **SISTEMA BASADO EN REGLAS**"
      ],
      "metadata": {
        "id": "EzrsgdhKWKpo"
      }
    },
    {
      "cell_type": "code",
      "source": [
        "from datetime import datetime, timedelta"
      ],
      "metadata": {
        "id": "D2a1MT4MIWqa"
      },
      "execution_count": null,
      "outputs": []
    },
    {
      "cell_type": "code",
      "source": [
        "def hora_en_franjas(hora: str, franjas: list[tuple[str, str]], step_minutes: int = 15) -> bool:\n",
        "  #step_minutes = 15 recorre las franjas horarias cada 15 minutos.\n",
        "\n",
        "    formato = \"%H:%M\"\n",
        "    hora_obj = datetime.strptime(hora, formato)\n",
        "    for inicio, fin in franjas:\n",
        "        t_inicio = datetime.strptime(inicio, formato)\n",
        "        t_fin = datetime.strptime(fin, formato)\n",
        "        while t_inicio < t_fin:\n",
        "            if t_inicio == hora_obj:\n",
        "                return True\n",
        "            t_inicio += timedelta(minutes=step_minutes)\n",
        "    return False"
      ],
      "metadata": {
        "id": "jWGgG5MheF-4"
      },
      "execution_count": null,
      "outputs": []
    },
    {
      "cell_type": "markdown",
      "source": [
        "## SALA 7.MAMOGRAFÍA"
      ],
      "metadata": {
        "id": "AJo8wTM5YaD4"
      }
    },
    {
      "cell_type": "markdown",
      "source": [
        "### BAV por ETX"
      ],
      "metadata": {
        "id": "51KOkSbhZYmV"
      }
    },
    {
      "cell_type": "code",
      "source": [
        "def es_horario_bav_por_etx(hora: str, dia: str) -> bool:\n",
        "    \"\"\"Citas BAV por ETX:\n",
        "    - Viernes: 08:45, 10:15, 11:15, 12:15\n",
        "    - Lunes: 13:00\n",
        "    \"\"\"\n",
        "    dia = dia.lower()\n",
        "    if dia == \"viernes\":\n",
        "        return hora in [\"08:45\", \"10:15\", \"11:15\", \"12:15\"]\n",
        "    elif dia == \"lunes\":\n",
        "        return hora == \"13:00\"\n",
        "    else:\n",
        "        return False"
      ],
      "metadata": {
        "id": "Ccfd1wMbZUZV"
      },
      "execution_count": null,
      "outputs": []
    },
    {
      "cell_type": "markdown",
      "source": [
        "### Arpón por ETX"
      ],
      "metadata": {
        "id": "QJE6N99CaWJS"
      }
    },
    {
      "cell_type": "code",
      "source": [
        "def es_horario_arpon(hora: str, dia: str) -> bool:\n",
        "    \"\"\"Arpones:\n",
        "    - Solo los martes y jueves\n",
        "    - Citas de 45 minutos entre 08:30 y 09:45\n",
        "    \"\"\"\n",
        "    dia = dia.lower()\n",
        "    if dia not in [\"martes\", \"jueves\"]:\n",
        "        return False\n",
        "    return hora in [\"08:30\", \"09:15\"]"
      ],
      "metadata": {
        "id": "rzNdHExTaVmK"
      },
      "execution_count": null,
      "outputs": []
    },
    {
      "cell_type": "markdown",
      "source": [
        "### Tomografías estándar"
      ],
      "metadata": {
        "id": "mXtVGN8Ja2H7"
      }
    },
    {
      "cell_type": "markdown",
      "source": [
        "Además de los huecos destinados a realizar tomografías, se tienen en cuenta las siguientes condiciones para la citación:\n",
        "Se añadirán huecos de tomografía de 15 minutos SI:\n",
        "- los lunes no hay una BAV de 13:00 a 14:00.\n",
        "- los viernes no hay BAV."
      ],
      "metadata": {
        "id": "xEWqaThNfEvb"
      }
    },
    {
      "cell_type": "code",
      "source": [
        "def es_horario_tx_mamografia(hora: str, dia: str, ocupado_bav: bool = False, ocupado_arpon: bool = False) -> bool:\n",
        "    dia = dia.lower()\n",
        "    franjas = []\n",
        "\n",
        "    if dia in [\"lunes\", \"viernes\"]:\n",
        "        franjas = [(\"08:30\", \"10:45\"), (\"11:45\", \"13:15\")]\n",
        "\n",
        "        if dia == \"lunes\":\n",
        "            if not ocupado_bav:\n",
        "                franjas.append((\"13:15\", \"13:45\"))\n",
        "\n",
        "        elif dia == \"viernes\":\n",
        "            franjas.append((\"13:15\", \"13:45\"))\n",
        "\n",
        "            if ocupado_bav:\n",
        "                # Excluir franjas BAV por ETX del viernes: [\"08:45\", \"10:15\", \"11:15\", \"12:15\"]\n",
        "                franjas_bav = [(\"08:45\", \"09:45\"), (\"10:15\", \"11:15\"),\n",
        "                               (\"11:15\", \"12:15\"), (\"12:15\", \"13:15\")]\n",
        "\n",
        "                # Filtramos franjas para eliminar solapamientos con BAV\n",
        "                def sin_solape(f1, f2):\n",
        "                    return f1[1] <= f2[0] or f1[0] >= f2[1]\n",
        "\n",
        "                franjas = [f for f in franjas\n",
        "                           if all(sin_solape(f, b) for b in franjas_bav)]\n",
        "\n",
        "    elif dia in [\"martes\", \"jueves\"]:\n",
        "        if not ocupado_arpon:\n",
        "            franjas = [(\"08:30\", \"10:45\")]\n",
        "        else:\n",
        "            franjas = [(\"10:00\", \"10:45\")]\n",
        "        franjas.append((\"12:00\", \"13:00\"))\n",
        "\n",
        "    return hora_en_franjas(hora, franjas, step_minutes=15)"
      ],
      "metadata": {
        "id": "5fKiMpyvdl73"
      },
      "execution_count": null,
      "outputs": []
    },
    {
      "cell_type": "markdown",
      "source": [
        "### Mamografía con contraste"
      ],
      "metadata": {
        "id": "zTM0e_2ekt9Z"
      }
    },
    {
      "cell_type": "code",
      "source": [
        "def es_horario_mamografia_con_contraste(hora: str, dia: str) -> bool:\n",
        "    \"\"\"\n",
        "    Mamografía con contraste:\n",
        "    - Solo miércoles\n",
        "    - Citas de 45 minutos desde 08:45 a 13:45\n",
        "    \"\"\"\n",
        "    dia = dia.lower()\n",
        "    if dia != \"miércoles\":\n",
        "        return False\n",
        "\n",
        "    inicio = datetime.strptime(\"08:45\", \"%H:%M\")\n",
        "    fin = datetime.strptime(\"13:45\", \"%H:%M\")\n",
        "\n",
        "    while inicio < fin:\n",
        "        if inicio.strftime(\"%H:%M\") == hora:\n",
        "            return True\n",
        "        inicio += timedelta(minutes=45)\n",
        "\n",
        "    return False"
      ],
      "metadata": {
        "id": "EquNspQ-YUG1"
      },
      "execution_count": null,
      "outputs": []
    },
    {
      "cell_type": "markdown",
      "source": [
        "## S7.ECOGRAFÍA"
      ],
      "metadata": {
        "id": "gGiGGzGYZH6j"
      }
    },
    {
      "cell_type": "markdown",
      "source": [
        "### Ecografías diagnósticas: prioritaria, ordinaria, revaloración y +contraste"
      ],
      "metadata": {
        "id": "k6D9OL41ZRkO"
      }
    },
    {
      "cell_type": "code",
      "source": [
        "def es_horario_ecografia_s7(hora: str, dia: str, tipo: str) -> bool:\n",
        "    tipo = tipo.lower()\n",
        "    dia = dia.lower()\n",
        "\n",
        "    if dia == \"lunes\":\n",
        "        if tipo in [\"revaloracion\", \"contraste\"]:\n",
        "            return hora_en_franjas(hora, [(\"09:00\", \"13:45\")], step_minutes=30)\n",
        "        elif tipo == \"ordinaria\":\n",
        "            return hora_en_franjas(hora, [(\"09:00\", \"13:45\")], step_minutes=15)\n",
        "\n",
        "    elif dia in [\"martes\", \"jueves\"]:\n",
        "        if tipo == \"prioritaria\":\n",
        "            return hora_en_franjas(hora, [(\"09:00\", \"09:30\")], step_minutes=15)\n",
        "        elif tipo == \"revaloracion\":\n",
        "            return hora in [\"10:00\", \"11:00\"]\n",
        "        elif tipo == \"post-mamografia\":\n",
        "            return hora_en_franjas(hora, [(\"12:30\", \"13:30\")], step_minutes=15)\n",
        "\n",
        "    elif dia in [\"miércoles\", \"viernes\"]:\n",
        "        if tipo == \"prioritaria\":\n",
        "            return hora_en_franjas(hora, [(\"09:30\", \"10:45\"), (\"11:30\", \"14:00\")], step_minutes=15)\n",
        "\n",
        "    return False"
      ],
      "metadata": {
        "id": "q79GkuTnSVsz"
      },
      "execution_count": null,
      "outputs": []
    },
    {
      "cell_type": "markdown",
      "source": [
        "### BAG guiada por ecografía"
      ],
      "metadata": {
        "id": "wAxq-2CxZnB5"
      }
    },
    {
      "cell_type": "code",
      "source": [
        "def es_horario_bag_ecografia(hora: str, dia: str) -> bool:\n",
        "    \"\"\"\n",
        "    BAG por ecografía:\n",
        "    - Solo martes y jueves\n",
        "    - Citas puntuales: 09:30–10:00, 10:30–11:00, 11:30–12:00\n",
        "    \"\"\"\n",
        "    dia = dia.lower()\n",
        "    if dia not in [\"martes\", \"jueves\"]:\n",
        "        return False\n",
        "    return hora in [\"09:30\", \"10:30\", \"11:30\"]"
      ],
      "metadata": {
        "id": "0D2I-r7vZmF0"
      },
      "execution_count": null,
      "outputs": []
    },
    {
      "cell_type": "markdown",
      "source": [
        "### PAAF guiada por ecografía"
      ],
      "metadata": {
        "id": "7F5Q3n_qZ8W_"
      }
    },
    {
      "cell_type": "code",
      "source": [
        "def es_horario_paaf_ecografia(hora: str, dia: str) -> bool:\n",
        "    \"\"\"\n",
        "    PAAF por ecografía:\n",
        "    - Solo martes y jueves\n",
        "    - Citas puntuales: 09:30–10:00, 10:30–11:00, 11:30–12:00 (mismas que BAG)\n",
        "    \"\"\"\n",
        "    dia = dia.lower()\n",
        "    if dia not in [\"martes\", \"jueves\"]:\n",
        "        return False\n",
        "    return hora in [\"09:30\", \"10:30\", \"11:30\"]"
      ],
      "metadata": {
        "id": "IdLRyXBNZ_hn"
      },
      "execution_count": null,
      "outputs": []
    },
    {
      "cell_type": "markdown",
      "source": [
        "## RESONANCIA MAGNÉTICA"
      ],
      "metadata": {
        "id": "ELULSeGAZL0f"
      }
    },
    {
      "cell_type": "code",
      "source": [
        "def es_horario_resonancia_magnetica(hora: str) -> bool:\n",
        "    \"\"\"Resonancia magnética los lunes: 4 franjas de 1 hora.\"\"\"\n",
        "    franjas_rm = [\n",
        "        (\"08:45\", \"09:45\"),\n",
        "        (\"10:45\", \"11:45\"),\n",
        "        (\"12:45\", \"13:45\"),\n",
        "        (\"13:00\", \"14:00\"),\n",
        "    ]\n",
        "    return hora_en_franjas(hora, franjas_rm, step_minutes=15)"
      ],
      "metadata": {
        "id": "nxUyh2M9ZGR_"
      },
      "execution_count": null,
      "outputs": []
    },
    {
      "cell_type": "markdown",
      "source": [
        "# CALENDARIOS"
      ],
      "metadata": {
        "id": "g_uZkQZGGeuI"
      }
    },
    {
      "cell_type": "markdown",
      "source": [
        "## Calendario base semanal"
      ],
      "metadata": {
        "id": "C7P0ZynKLLzL"
      }
    },
    {
      "cell_type": "code",
      "source": [
        "def generar_calendario_base(fecha_inicio: str, dias: int) -> dict:\n",
        "\n",
        "    calendario = {}\n",
        "    formato = \"%Y-%m-%d\"\n",
        "    fecha = datetime.strptime(fecha_inicio, formato)\n",
        "\n",
        "    for _ in range(dias):\n",
        "        dia_str = fecha.strftime(formato)\n",
        "        calendario[dia_str] = {}\n",
        "        hora = datetime.strptime(\"08:00\", \"%H:%M\")\n",
        "        while hora < datetime.strptime(\"14:00\", \"%H:%M\"):\n",
        "            calendario[dia_str][hora.strftime(\"%H:%M\")] = None\n",
        "            hora += timedelta(minutes=15)\n",
        "        fecha += timedelta(days=1)\n",
        "\n",
        "    return calendario"
      ],
      "metadata": {
        "id": "gZMw_aJDIJJ3"
      },
      "execution_count": null,
      "outputs": []
    },
    {
      "cell_type": "markdown",
      "source": [
        "## Calendario de cada sala."
      ],
      "metadata": {
        "id": "dyE-_V1jLSXS"
      }
    },
    {
      "cell_type": "code",
      "source": [
        "def mostrar_calendario(calendario: dict, sala: str):\n",
        "    \"\"\"\n",
        "    Muestra el calendario de una sala de forma legible.\n",
        "    \"\"\"\n",
        "    print(f\"\\n CALENDARIO DE {sala.upper()}\")\n",
        "    for fecha in sorted(calendario.keys()):\n",
        "        print(f\"\\n📅 {fecha}\")\n",
        "        horas_ordenadas = sorted(calendario[fecha].items())\n",
        "        for hora, estado in horas_ordenadas:\n",
        "            estado_str = \"Libre\" if estado is None else f\"Ocupado: {estado}\"\n",
        "            print(f\"  🕒 {hora} - {estado_str}\")\n",
        "    print(\"\\n\" + \"=\"*40 + \"\\n\")\n",
        "\n",
        "calendarios_por_sala = {\n",
        "    \"S7_Mamografia\": generar_calendario_base(\"2025-07-07\", 7),\n",
        "    \"S7_Ecografia\": generar_calendario_base(\"2025-07-07\", 7),\n",
        "    \"Resonancia\": generar_calendario_base(\"2025-07-07\", 7)\n",
        "}"
      ],
      "metadata": {
        "id": "6UOkd4lQK88-"
      },
      "execution_count": null,
      "outputs": []
    },
    {
      "cell_type": "code",
      "source": [
        "for sala, calendario in calendarios_por_sala.items():\n",
        "    mostrar_calendario(calendario, sala)"
      ],
      "metadata": {
        "colab": {
          "base_uri": "https://localhost:8080/"
        },
        "id": "dux1vwdpL0O4",
        "outputId": "c2de8edd-88ef-4e9b-8880-944c54f8186d"
      },
      "execution_count": null,
      "outputs": [
        {
          "output_type": "stream",
          "name": "stdout",
          "text": [
            "\n",
            " CALENDARIO DE S7_MAMOGRAFIA\n",
            "\n",
            "📅 2025-07-07\n",
            "  🕒 08:00 - Libre\n",
            "  🕒 08:15 - Libre\n",
            "  🕒 08:30 - Libre\n",
            "  🕒 08:45 - Libre\n",
            "  🕒 09:00 - Libre\n",
            "  🕒 09:15 - Libre\n",
            "  🕒 09:30 - Libre\n",
            "  🕒 09:45 - Libre\n",
            "  🕒 10:00 - Libre\n",
            "  🕒 10:15 - Libre\n",
            "  🕒 10:30 - Libre\n",
            "  🕒 10:45 - Libre\n",
            "  🕒 11:00 - Libre\n",
            "  🕒 11:15 - Libre\n",
            "  🕒 11:30 - Libre\n",
            "  🕒 11:45 - Libre\n",
            "  🕒 12:00 - Libre\n",
            "  🕒 12:15 - Libre\n",
            "  🕒 12:30 - Libre\n",
            "  🕒 12:45 - Libre\n",
            "  🕒 13:00 - Libre\n",
            "  🕒 13:15 - Libre\n",
            "  🕒 13:30 - Libre\n",
            "  🕒 13:45 - Libre\n",
            "\n",
            "📅 2025-07-08\n",
            "  🕒 08:00 - Libre\n",
            "  🕒 08:15 - Libre\n",
            "  🕒 08:30 - Libre\n",
            "  🕒 08:45 - Libre\n",
            "  🕒 09:00 - Libre\n",
            "  🕒 09:15 - Libre\n",
            "  🕒 09:30 - Libre\n",
            "  🕒 09:45 - Libre\n",
            "  🕒 10:00 - Libre\n",
            "  🕒 10:15 - Libre\n",
            "  🕒 10:30 - Libre\n",
            "  🕒 10:45 - Libre\n",
            "  🕒 11:00 - Libre\n",
            "  🕒 11:15 - Libre\n",
            "  🕒 11:30 - Libre\n",
            "  🕒 11:45 - Libre\n",
            "  🕒 12:00 - Libre\n",
            "  🕒 12:15 - Libre\n",
            "  🕒 12:30 - Libre\n",
            "  🕒 12:45 - Libre\n",
            "  🕒 13:00 - Libre\n",
            "  🕒 13:15 - Libre\n",
            "  🕒 13:30 - Libre\n",
            "  🕒 13:45 - Libre\n",
            "\n",
            "📅 2025-07-09\n",
            "  🕒 08:00 - Libre\n",
            "  🕒 08:15 - Libre\n",
            "  🕒 08:30 - Libre\n",
            "  🕒 08:45 - Libre\n",
            "  🕒 09:00 - Libre\n",
            "  🕒 09:15 - Libre\n",
            "  🕒 09:30 - Libre\n",
            "  🕒 09:45 - Libre\n",
            "  🕒 10:00 - Libre\n",
            "  🕒 10:15 - Libre\n",
            "  🕒 10:30 - Libre\n",
            "  🕒 10:45 - Libre\n",
            "  🕒 11:00 - Libre\n",
            "  🕒 11:15 - Libre\n",
            "  🕒 11:30 - Libre\n",
            "  🕒 11:45 - Libre\n",
            "  🕒 12:00 - Libre\n",
            "  🕒 12:15 - Libre\n",
            "  🕒 12:30 - Libre\n",
            "  🕒 12:45 - Libre\n",
            "  🕒 13:00 - Libre\n",
            "  🕒 13:15 - Libre\n",
            "  🕒 13:30 - Libre\n",
            "  🕒 13:45 - Libre\n",
            "\n",
            "📅 2025-07-10\n",
            "  🕒 08:00 - Libre\n",
            "  🕒 08:15 - Libre\n",
            "  🕒 08:30 - Libre\n",
            "  🕒 08:45 - Libre\n",
            "  🕒 09:00 - Libre\n",
            "  🕒 09:15 - Libre\n",
            "  🕒 09:30 - Libre\n",
            "  🕒 09:45 - Libre\n",
            "  🕒 10:00 - Libre\n",
            "  🕒 10:15 - Libre\n",
            "  🕒 10:30 - Libre\n",
            "  🕒 10:45 - Libre\n",
            "  🕒 11:00 - Libre\n",
            "  🕒 11:15 - Libre\n",
            "  🕒 11:30 - Libre\n",
            "  🕒 11:45 - Libre\n",
            "  🕒 12:00 - Libre\n",
            "  🕒 12:15 - Libre\n",
            "  🕒 12:30 - Libre\n",
            "  🕒 12:45 - Libre\n",
            "  🕒 13:00 - Libre\n",
            "  🕒 13:15 - Libre\n",
            "  🕒 13:30 - Libre\n",
            "  🕒 13:45 - Libre\n",
            "\n",
            "📅 2025-07-11\n",
            "  🕒 08:00 - Libre\n",
            "  🕒 08:15 - Libre\n",
            "  🕒 08:30 - Libre\n",
            "  🕒 08:45 - Libre\n",
            "  🕒 09:00 - Libre\n",
            "  🕒 09:15 - Libre\n",
            "  🕒 09:30 - Libre\n",
            "  🕒 09:45 - Libre\n",
            "  🕒 10:00 - Libre\n",
            "  🕒 10:15 - Libre\n",
            "  🕒 10:30 - Libre\n",
            "  🕒 10:45 - Libre\n",
            "  🕒 11:00 - Libre\n",
            "  🕒 11:15 - Libre\n",
            "  🕒 11:30 - Libre\n",
            "  🕒 11:45 - Libre\n",
            "  🕒 12:00 - Libre\n",
            "  🕒 12:15 - Libre\n",
            "  🕒 12:30 - Libre\n",
            "  🕒 12:45 - Libre\n",
            "  🕒 13:00 - Libre\n",
            "  🕒 13:15 - Libre\n",
            "  🕒 13:30 - Libre\n",
            "  🕒 13:45 - Libre\n",
            "\n",
            "📅 2025-07-12\n",
            "  🕒 08:00 - Libre\n",
            "  🕒 08:15 - Libre\n",
            "  🕒 08:30 - Libre\n",
            "  🕒 08:45 - Libre\n",
            "  🕒 09:00 - Libre\n",
            "  🕒 09:15 - Libre\n",
            "  🕒 09:30 - Libre\n",
            "  🕒 09:45 - Libre\n",
            "  🕒 10:00 - Libre\n",
            "  🕒 10:15 - Libre\n",
            "  🕒 10:30 - Libre\n",
            "  🕒 10:45 - Libre\n",
            "  🕒 11:00 - Libre\n",
            "  🕒 11:15 - Libre\n",
            "  🕒 11:30 - Libre\n",
            "  🕒 11:45 - Libre\n",
            "  🕒 12:00 - Libre\n",
            "  🕒 12:15 - Libre\n",
            "  🕒 12:30 - Libre\n",
            "  🕒 12:45 - Libre\n",
            "  🕒 13:00 - Libre\n",
            "  🕒 13:15 - Libre\n",
            "  🕒 13:30 - Libre\n",
            "  🕒 13:45 - Libre\n",
            "\n",
            "📅 2025-07-13\n",
            "  🕒 08:00 - Libre\n",
            "  🕒 08:15 - Libre\n",
            "  🕒 08:30 - Libre\n",
            "  🕒 08:45 - Libre\n",
            "  🕒 09:00 - Libre\n",
            "  🕒 09:15 - Libre\n",
            "  🕒 09:30 - Libre\n",
            "  🕒 09:45 - Libre\n",
            "  🕒 10:00 - Libre\n",
            "  🕒 10:15 - Libre\n",
            "  🕒 10:30 - Libre\n",
            "  🕒 10:45 - Libre\n",
            "  🕒 11:00 - Libre\n",
            "  🕒 11:15 - Libre\n",
            "  🕒 11:30 - Libre\n",
            "  🕒 11:45 - Libre\n",
            "  🕒 12:00 - Libre\n",
            "  🕒 12:15 - Libre\n",
            "  🕒 12:30 - Libre\n",
            "  🕒 12:45 - Libre\n",
            "  🕒 13:00 - Libre\n",
            "  🕒 13:15 - Libre\n",
            "  🕒 13:30 - Libre\n",
            "  🕒 13:45 - Libre\n",
            "\n",
            "========================================\n",
            "\n",
            "\n",
            " CALENDARIO DE S7_ECOGRAFIA\n",
            "\n",
            "📅 2025-07-07\n",
            "  🕒 08:00 - Libre\n",
            "  🕒 08:15 - Libre\n",
            "  🕒 08:30 - Libre\n",
            "  🕒 08:45 - Libre\n",
            "  🕒 09:00 - Libre\n",
            "  🕒 09:15 - Libre\n",
            "  🕒 09:30 - Libre\n",
            "  🕒 09:45 - Libre\n",
            "  🕒 10:00 - Libre\n",
            "  🕒 10:15 - Libre\n",
            "  🕒 10:30 - Libre\n",
            "  🕒 10:45 - Libre\n",
            "  🕒 11:00 - Libre\n",
            "  🕒 11:15 - Libre\n",
            "  🕒 11:30 - Libre\n",
            "  🕒 11:45 - Libre\n",
            "  🕒 12:00 - Libre\n",
            "  🕒 12:15 - Libre\n",
            "  🕒 12:30 - Libre\n",
            "  🕒 12:45 - Libre\n",
            "  🕒 13:00 - Libre\n",
            "  🕒 13:15 - Libre\n",
            "  🕒 13:30 - Libre\n",
            "  🕒 13:45 - Libre\n",
            "\n",
            "📅 2025-07-08\n",
            "  🕒 08:00 - Libre\n",
            "  🕒 08:15 - Libre\n",
            "  🕒 08:30 - Libre\n",
            "  🕒 08:45 - Libre\n",
            "  🕒 09:00 - Libre\n",
            "  🕒 09:15 - Libre\n",
            "  🕒 09:30 - Libre\n",
            "  🕒 09:45 - Libre\n",
            "  🕒 10:00 - Libre\n",
            "  🕒 10:15 - Libre\n",
            "  🕒 10:30 - Libre\n",
            "  🕒 10:45 - Libre\n",
            "  🕒 11:00 - Libre\n",
            "  🕒 11:15 - Libre\n",
            "  🕒 11:30 - Libre\n",
            "  🕒 11:45 - Libre\n",
            "  🕒 12:00 - Libre\n",
            "  🕒 12:15 - Libre\n",
            "  🕒 12:30 - Libre\n",
            "  🕒 12:45 - Libre\n",
            "  🕒 13:00 - Libre\n",
            "  🕒 13:15 - Libre\n",
            "  🕒 13:30 - Libre\n",
            "  🕒 13:45 - Libre\n",
            "\n",
            "📅 2025-07-09\n",
            "  🕒 08:00 - Libre\n",
            "  🕒 08:15 - Libre\n",
            "  🕒 08:30 - Libre\n",
            "  🕒 08:45 - Libre\n",
            "  🕒 09:00 - Libre\n",
            "  🕒 09:15 - Libre\n",
            "  🕒 09:30 - Libre\n",
            "  🕒 09:45 - Libre\n",
            "  🕒 10:00 - Libre\n",
            "  🕒 10:15 - Libre\n",
            "  🕒 10:30 - Libre\n",
            "  🕒 10:45 - Libre\n",
            "  🕒 11:00 - Libre\n",
            "  🕒 11:15 - Libre\n",
            "  🕒 11:30 - Libre\n",
            "  🕒 11:45 - Libre\n",
            "  🕒 12:00 - Libre\n",
            "  🕒 12:15 - Libre\n",
            "  🕒 12:30 - Libre\n",
            "  🕒 12:45 - Libre\n",
            "  🕒 13:00 - Libre\n",
            "  🕒 13:15 - Libre\n",
            "  🕒 13:30 - Libre\n",
            "  🕒 13:45 - Libre\n",
            "\n",
            "📅 2025-07-10\n",
            "  🕒 08:00 - Libre\n",
            "  🕒 08:15 - Libre\n",
            "  🕒 08:30 - Libre\n",
            "  🕒 08:45 - Libre\n",
            "  🕒 09:00 - Libre\n",
            "  🕒 09:15 - Libre\n",
            "  🕒 09:30 - Libre\n",
            "  🕒 09:45 - Libre\n",
            "  🕒 10:00 - Libre\n",
            "  🕒 10:15 - Libre\n",
            "  🕒 10:30 - Libre\n",
            "  🕒 10:45 - Libre\n",
            "  🕒 11:00 - Libre\n",
            "  🕒 11:15 - Libre\n",
            "  🕒 11:30 - Libre\n",
            "  🕒 11:45 - Libre\n",
            "  🕒 12:00 - Libre\n",
            "  🕒 12:15 - Libre\n",
            "  🕒 12:30 - Libre\n",
            "  🕒 12:45 - Libre\n",
            "  🕒 13:00 - Libre\n",
            "  🕒 13:15 - Libre\n",
            "  🕒 13:30 - Libre\n",
            "  🕒 13:45 - Libre\n",
            "\n",
            "📅 2025-07-11\n",
            "  🕒 08:00 - Libre\n",
            "  🕒 08:15 - Libre\n",
            "  🕒 08:30 - Libre\n",
            "  🕒 08:45 - Libre\n",
            "  🕒 09:00 - Libre\n",
            "  🕒 09:15 - Libre\n",
            "  🕒 09:30 - Libre\n",
            "  🕒 09:45 - Libre\n",
            "  🕒 10:00 - Libre\n",
            "  🕒 10:15 - Libre\n",
            "  🕒 10:30 - Libre\n",
            "  🕒 10:45 - Libre\n",
            "  🕒 11:00 - Libre\n",
            "  🕒 11:15 - Libre\n",
            "  🕒 11:30 - Libre\n",
            "  🕒 11:45 - Libre\n",
            "  🕒 12:00 - Libre\n",
            "  🕒 12:15 - Libre\n",
            "  🕒 12:30 - Libre\n",
            "  🕒 12:45 - Libre\n",
            "  🕒 13:00 - Libre\n",
            "  🕒 13:15 - Libre\n",
            "  🕒 13:30 - Libre\n",
            "  🕒 13:45 - Libre\n",
            "\n",
            "📅 2025-07-12\n",
            "  🕒 08:00 - Libre\n",
            "  🕒 08:15 - Libre\n",
            "  🕒 08:30 - Libre\n",
            "  🕒 08:45 - Libre\n",
            "  🕒 09:00 - Libre\n",
            "  🕒 09:15 - Libre\n",
            "  🕒 09:30 - Libre\n",
            "  🕒 09:45 - Libre\n",
            "  🕒 10:00 - Libre\n",
            "  🕒 10:15 - Libre\n",
            "  🕒 10:30 - Libre\n",
            "  🕒 10:45 - Libre\n",
            "  🕒 11:00 - Libre\n",
            "  🕒 11:15 - Libre\n",
            "  🕒 11:30 - Libre\n",
            "  🕒 11:45 - Libre\n",
            "  🕒 12:00 - Libre\n",
            "  🕒 12:15 - Libre\n",
            "  🕒 12:30 - Libre\n",
            "  🕒 12:45 - Libre\n",
            "  🕒 13:00 - Libre\n",
            "  🕒 13:15 - Libre\n",
            "  🕒 13:30 - Libre\n",
            "  🕒 13:45 - Libre\n",
            "\n",
            "📅 2025-07-13\n",
            "  🕒 08:00 - Libre\n",
            "  🕒 08:15 - Libre\n",
            "  🕒 08:30 - Libre\n",
            "  🕒 08:45 - Libre\n",
            "  🕒 09:00 - Libre\n",
            "  🕒 09:15 - Libre\n",
            "  🕒 09:30 - Libre\n",
            "  🕒 09:45 - Libre\n",
            "  🕒 10:00 - Libre\n",
            "  🕒 10:15 - Libre\n",
            "  🕒 10:30 - Libre\n",
            "  🕒 10:45 - Libre\n",
            "  🕒 11:00 - Libre\n",
            "  🕒 11:15 - Libre\n",
            "  🕒 11:30 - Libre\n",
            "  🕒 11:45 - Libre\n",
            "  🕒 12:00 - Libre\n",
            "  🕒 12:15 - Libre\n",
            "  🕒 12:30 - Libre\n",
            "  🕒 12:45 - Libre\n",
            "  🕒 13:00 - Libre\n",
            "  🕒 13:15 - Libre\n",
            "  🕒 13:30 - Libre\n",
            "  🕒 13:45 - Libre\n",
            "\n",
            "========================================\n",
            "\n",
            "\n",
            " CALENDARIO DE RESONANCIA\n",
            "\n",
            "📅 2025-07-07\n",
            "  🕒 08:00 - Libre\n",
            "  🕒 08:15 - Libre\n",
            "  🕒 08:30 - Libre\n",
            "  🕒 08:45 - Libre\n",
            "  🕒 09:00 - Libre\n",
            "  🕒 09:15 - Libre\n",
            "  🕒 09:30 - Libre\n",
            "  🕒 09:45 - Libre\n",
            "  🕒 10:00 - Libre\n",
            "  🕒 10:15 - Libre\n",
            "  🕒 10:30 - Libre\n",
            "  🕒 10:45 - Libre\n",
            "  🕒 11:00 - Libre\n",
            "  🕒 11:15 - Libre\n",
            "  🕒 11:30 - Libre\n",
            "  🕒 11:45 - Libre\n",
            "  🕒 12:00 - Libre\n",
            "  🕒 12:15 - Libre\n",
            "  🕒 12:30 - Libre\n",
            "  🕒 12:45 - Libre\n",
            "  🕒 13:00 - Libre\n",
            "  🕒 13:15 - Libre\n",
            "  🕒 13:30 - Libre\n",
            "  🕒 13:45 - Libre\n",
            "\n",
            "📅 2025-07-08\n",
            "  🕒 08:00 - Libre\n",
            "  🕒 08:15 - Libre\n",
            "  🕒 08:30 - Libre\n",
            "  🕒 08:45 - Libre\n",
            "  🕒 09:00 - Libre\n",
            "  🕒 09:15 - Libre\n",
            "  🕒 09:30 - Libre\n",
            "  🕒 09:45 - Libre\n",
            "  🕒 10:00 - Libre\n",
            "  🕒 10:15 - Libre\n",
            "  🕒 10:30 - Libre\n",
            "  🕒 10:45 - Libre\n",
            "  🕒 11:00 - Libre\n",
            "  🕒 11:15 - Libre\n",
            "  🕒 11:30 - Libre\n",
            "  🕒 11:45 - Libre\n",
            "  🕒 12:00 - Libre\n",
            "  🕒 12:15 - Libre\n",
            "  🕒 12:30 - Libre\n",
            "  🕒 12:45 - Libre\n",
            "  🕒 13:00 - Libre\n",
            "  🕒 13:15 - Libre\n",
            "  🕒 13:30 - Libre\n",
            "  🕒 13:45 - Libre\n",
            "\n",
            "📅 2025-07-09\n",
            "  🕒 08:00 - Libre\n",
            "  🕒 08:15 - Libre\n",
            "  🕒 08:30 - Libre\n",
            "  🕒 08:45 - Libre\n",
            "  🕒 09:00 - Libre\n",
            "  🕒 09:15 - Libre\n",
            "  🕒 09:30 - Libre\n",
            "  🕒 09:45 - Libre\n",
            "  🕒 10:00 - Libre\n",
            "  🕒 10:15 - Libre\n",
            "  🕒 10:30 - Libre\n",
            "  🕒 10:45 - Libre\n",
            "  🕒 11:00 - Libre\n",
            "  🕒 11:15 - Libre\n",
            "  🕒 11:30 - Libre\n",
            "  🕒 11:45 - Libre\n",
            "  🕒 12:00 - Libre\n",
            "  🕒 12:15 - Libre\n",
            "  🕒 12:30 - Libre\n",
            "  🕒 12:45 - Libre\n",
            "  🕒 13:00 - Libre\n",
            "  🕒 13:15 - Libre\n",
            "  🕒 13:30 - Libre\n",
            "  🕒 13:45 - Libre\n",
            "\n",
            "📅 2025-07-10\n",
            "  🕒 08:00 - Libre\n",
            "  🕒 08:15 - Libre\n",
            "  🕒 08:30 - Libre\n",
            "  🕒 08:45 - Libre\n",
            "  🕒 09:00 - Libre\n",
            "  🕒 09:15 - Libre\n",
            "  🕒 09:30 - Libre\n",
            "  🕒 09:45 - Libre\n",
            "  🕒 10:00 - Libre\n",
            "  🕒 10:15 - Libre\n",
            "  🕒 10:30 - Libre\n",
            "  🕒 10:45 - Libre\n",
            "  🕒 11:00 - Libre\n",
            "  🕒 11:15 - Libre\n",
            "  🕒 11:30 - Libre\n",
            "  🕒 11:45 - Libre\n",
            "  🕒 12:00 - Libre\n",
            "  🕒 12:15 - Libre\n",
            "  🕒 12:30 - Libre\n",
            "  🕒 12:45 - Libre\n",
            "  🕒 13:00 - Libre\n",
            "  🕒 13:15 - Libre\n",
            "  🕒 13:30 - Libre\n",
            "  🕒 13:45 - Libre\n",
            "\n",
            "📅 2025-07-11\n",
            "  🕒 08:00 - Libre\n",
            "  🕒 08:15 - Libre\n",
            "  🕒 08:30 - Libre\n",
            "  🕒 08:45 - Libre\n",
            "  🕒 09:00 - Libre\n",
            "  🕒 09:15 - Libre\n",
            "  🕒 09:30 - Libre\n",
            "  🕒 09:45 - Libre\n",
            "  🕒 10:00 - Libre\n",
            "  🕒 10:15 - Libre\n",
            "  🕒 10:30 - Libre\n",
            "  🕒 10:45 - Libre\n",
            "  🕒 11:00 - Libre\n",
            "  🕒 11:15 - Libre\n",
            "  🕒 11:30 - Libre\n",
            "  🕒 11:45 - Libre\n",
            "  🕒 12:00 - Libre\n",
            "  🕒 12:15 - Libre\n",
            "  🕒 12:30 - Libre\n",
            "  🕒 12:45 - Libre\n",
            "  🕒 13:00 - Libre\n",
            "  🕒 13:15 - Libre\n",
            "  🕒 13:30 - Libre\n",
            "  🕒 13:45 - Libre\n",
            "\n",
            "📅 2025-07-12\n",
            "  🕒 08:00 - Libre\n",
            "  🕒 08:15 - Libre\n",
            "  🕒 08:30 - Libre\n",
            "  🕒 08:45 - Libre\n",
            "  🕒 09:00 - Libre\n",
            "  🕒 09:15 - Libre\n",
            "  🕒 09:30 - Libre\n",
            "  🕒 09:45 - Libre\n",
            "  🕒 10:00 - Libre\n",
            "  🕒 10:15 - Libre\n",
            "  🕒 10:30 - Libre\n",
            "  🕒 10:45 - Libre\n",
            "  🕒 11:00 - Libre\n",
            "  🕒 11:15 - Libre\n",
            "  🕒 11:30 - Libre\n",
            "  🕒 11:45 - Libre\n",
            "  🕒 12:00 - Libre\n",
            "  🕒 12:15 - Libre\n",
            "  🕒 12:30 - Libre\n",
            "  🕒 12:45 - Libre\n",
            "  🕒 13:00 - Libre\n",
            "  🕒 13:15 - Libre\n",
            "  🕒 13:30 - Libre\n",
            "  🕒 13:45 - Libre\n",
            "\n",
            "📅 2025-07-13\n",
            "  🕒 08:00 - Libre\n",
            "  🕒 08:15 - Libre\n",
            "  🕒 08:30 - Libre\n",
            "  🕒 08:45 - Libre\n",
            "  🕒 09:00 - Libre\n",
            "  🕒 09:15 - Libre\n",
            "  🕒 09:30 - Libre\n",
            "  🕒 09:45 - Libre\n",
            "  🕒 10:00 - Libre\n",
            "  🕒 10:15 - Libre\n",
            "  🕒 10:30 - Libre\n",
            "  🕒 10:45 - Libre\n",
            "  🕒 11:00 - Libre\n",
            "  🕒 11:15 - Libre\n",
            "  🕒 11:30 - Libre\n",
            "  🕒 11:45 - Libre\n",
            "  🕒 12:00 - Libre\n",
            "  🕒 12:15 - Libre\n",
            "  🕒 12:30 - Libre\n",
            "  🕒 12:45 - Libre\n",
            "  🕒 13:00 - Libre\n",
            "  🕒 13:15 - Libre\n",
            "  🕒 13:30 - Libre\n",
            "  🕒 13:45 - Libre\n",
            "\n",
            "========================================\n",
            "\n"
          ]
        }
      ]
    },
    {
      "cell_type": "markdown",
      "source": [
        "#**FUNCIONES DE ASIGNACIÓN AUTOMÁTICA DE CITAS**\n"
      ],
      "metadata": {
        "id": "rK_ihoUo8rQ4"
      }
    },
    {
      "cell_type": "markdown",
      "source": [
        "## SALA 7. MAMOGRAFÍA"
      ],
      "metadata": {
        "id": "pkY1hCtQ_Zza"
      }
    },
    {
      "cell_type": "code",
      "source": [
        "def obtener_dia_semana(fecha_str: str) -> str:\n",
        "    dias = [\"lunes\", \"martes\", \"miércoles\", \"jueves\", \"viernes\", \"sábado\", \"domingo\"]\n",
        "    formato = \"%Y-%m-%d\"\n",
        "    fecha_obj = datetime.strptime(fecha_str, formato)\n",
        "    return dias[fecha_obj.weekday()]"
      ],
      "metadata": {
        "id": "_lXZ4cDlmAYY"
      },
      "execution_count": null,
      "outputs": []
    },
    {
      "cell_type": "markdown",
      "source": [
        "### BAV por exterotaxia"
      ],
      "metadata": {
        "id": "f--UmSHE_eiZ"
      }
    },
    {
      "cell_type": "code",
      "source": [
        "def asignar_cita_bav_por_etx(calendario: dict, paciente_id: str, nombre: str) -> tuple[str, str] | None:\n",
        "    dias_semana = {\n",
        "        0: \"lunes\",\n",
        "        4: \"viernes\",\n",
        "    }\n",
        "\n",
        "    for fecha in sorted(calendario.keys()):\n",
        "        dia_semana = datetime.strptime(fecha, \"%Y-%m-%d\").weekday() #Así consideramos el día de la semana\n",
        "        if dia_semana not in dias_semana:\n",
        "            continue\n",
        "\n",
        "        nombre_dia = dias_semana[dia_semana]\n",
        "\n",
        "        for hora in calendario[fecha]:\n",
        "            if calendario[fecha][hora] is None and es_horario_bav_por_etx(hora, nombre_dia):\n",
        "                calendario[fecha][hora] = {\n",
        "                    \"estado\": \"ocupado\",\n",
        "                    \"paciente\": {\n",
        "                        \"id\": paciente_id,\n",
        "                        \"nombre\": nombre\n",
        "                    },\n",
        "                    \"prueba\": \"BAV por ETX\"\n",
        "                }\n",
        "                return fecha, hora\n",
        "\n",
        "    return None #Cuando no encuentre un hueco\n"
      ],
      "metadata": {
        "id": "4grd_rVo5oV1"
      },
      "execution_count": null,
      "outputs": []
    },
    {
      "cell_type": "markdown",
      "source": [
        "### Arpón por esterotaxia"
      ],
      "metadata": {
        "id": "QOvIZ4WdDmoo"
      }
    },
    {
      "cell_type": "code",
      "source": [
        "def asignar_cita_arpon(calendario: dict, paciente_id: str, nombre: str) -> tuple[str, str] | None:\n",
        "    \"\"\"\n",
        "    Asigna automáticamente una cita de arpón:\n",
        "    - Solo martes y jueves\n",
        "    - Horarios: 08:30 y 09:15 (45 min)\n",
        "    \"\"\"\n",
        "    for fecha, bloques in calendario.items():\n",
        "        dia_semana = obtener_dia_semana(fecha)\n",
        "        for hora, datos in bloques.items():\n",
        "            if (\n",
        "                es_horario_arpon(hora, dia_semana)\n",
        "                and datos is None\n",
        "            ):\n",
        "\n",
        "                bloques[hora] = {\n",
        "                    \"estado\": \"ocupado\",\n",
        "                    \"prueba\": \"arpon\",\n",
        "                    \"paciente\": {\"id\": paciente_id, \"nombre\": nombre}\n",
        "                }\n",
        "                return fecha, hora\n",
        "    return None, None"
      ],
      "metadata": {
        "id": "uWd_JwrxGNWb"
      },
      "execution_count": null,
      "outputs": []
    },
    {
      "cell_type": "markdown",
      "source": [
        "### Tomografía / Mamografía"
      ],
      "metadata": {
        "id": "s_1fwlZnHMId"
      }
    },
    {
      "cell_type": "code",
      "source": [
        "def asignar_cita_tx_mamografia(calendario: dict, paciente_id: str, nombre: str) -> tuple[str, str] | tuple[None, None]:\n",
        "\n",
        "    for fecha, horas in calendario.items():\n",
        "        dia_semana = obtener_dia_semana(fecha)\n",
        "\n",
        "        for hora, info in horas.items():\n",
        "            if info is not None and info[\"estado\"] == \"ocupado\":\n",
        "                continue\n",
        "\n",
        "            # Evaluamos si ya hay una BAV o Arpón en ese día\n",
        "            ocupado_bav = any(h is not None and h.get(\"prueba\") == \"bav_por_etx\" for h in horas.values())\n",
        "            ocupado_arpon = any(h is not None and h.get(\"prueba\") == \"arpon\" for h in horas.values())\n",
        "\n",
        "            if es_horario_tx_mamografia(hora, dia_semana, ocupado_bav, ocupado_arpon):\n",
        "                # Asignamos la cita\n",
        "                horas[hora] = { # Assign the dictionary to the slot\n",
        "                    \"estado\": \"ocupado\",\n",
        "                    \"prueba\": \"tx_mamografia\",\n",
        "                    \"paciente\": {\n",
        "                        \"id\": paciente_id,\n",
        "                        \"nombre\": nombre\n",
        "                    }\n",
        "                }\n",
        "                return fecha, hora\n",
        "\n",
        "    return None, None"
      ],
      "metadata": {
        "id": "Bh4EWn6wH_mH"
      },
      "execution_count": null,
      "outputs": []
    },
    {
      "cell_type": "markdown",
      "source": [
        "### Mamografía con contraste"
      ],
      "metadata": {
        "id": "om3Ote35IjpG"
      }
    },
    {
      "cell_type": "code",
      "source": [
        "def asignar_cita_mamografia_con_contraste(calendario: dict, paciente_id: str, paciente_nombre: str) -> tuple[str, str] | tuple[None, None]:\n",
        "    \"\"\"\n",
        "    Asigna una cita para mamografía con contraste:\n",
        "    - Solo miércoles\n",
        "    - Citas cada 45 minutos de 08:45 a 13:45\n",
        "    \"\"\"\n",
        "    for fecha, horas in calendario.items():\n",
        "        dia_semana = obtener_dia_semana(fecha)\n",
        "\n",
        "        for hora, info in horas.items():\n",
        "            if info is not None and info[\"estado\"] == \"ocupado\":\n",
        "                continue\n",
        "\n",
        "            if es_horario_mamografia_con_contraste(hora, dia_semana):\n",
        "                # Asignar cita\n",
        "                horas[hora] = { # Assign the dictionary to the slot\n",
        "                    \"estado\": \"ocupado\",\n",
        "                    \"prueba\": \"mamografia_con_contraste\",\n",
        "                    \"paciente\": {\n",
        "                        \"id\": paciente_id,\n",
        "                        \"nombre\": paciente_nombre\n",
        "                    }\n",
        "                }\n",
        "                return fecha, hora\n",
        "\n",
        "    return None, None"
      ],
      "metadata": {
        "id": "OlGlJ89aw4B0"
      },
      "execution_count": null,
      "outputs": []
    },
    {
      "cell_type": "markdown",
      "source": [],
      "metadata": {
        "id": "bc2ltJm6IuGT"
      }
    },
    {
      "cell_type": "markdown",
      "source": [
        "## SALA 7. ECOGRAFÍA"
      ],
      "metadata": {
        "id": "rTy-LhKZK4jk"
      }
    },
    {
      "cell_type": "markdown",
      "source": [
        "### Ecografías diagnósticas:\n",
        "Hay que especificar el tipo:\n",
        "- Prioritaria\n",
        "- Ordinaria\n",
        "- Revaloración\n",
        "- Con contraste\n"
      ],
      "metadata": {
        "id": "UjwlV6iuYTK3"
      }
    },
    {
      "cell_type": "code",
      "source": [
        "def asignar_cita_ecografia(calendario: dict, tipo: str, paciente_id: str, nombre: str) -> tuple[str, str] | tuple[None, None]:\n",
        "\n",
        "    for fecha, horas in calendario.items():\n",
        "        dia_semana = obtener_dia_semana(fecha)\n",
        "\n",
        "        for hora, info in horas.items():\n",
        "            if info is not None and info.get(\"estado\") == \"ocupado\":\n",
        "                continue\n",
        "\n",
        "            if es_horario_ecografia_s7(hora, dia_semana, tipo):\n",
        "\n",
        "                horas[hora] = {\n",
        "                    \"estado\": \"ocupado\",\n",
        "                    \"tipo_prueba\": tipo,\n",
        "                    \"paciente\": {\n",
        "                        \"id\": paciente_id,\n",
        "                        \"nombre\": nombre\n",
        "                    }\n",
        "                }\n",
        "                return fecha, hora\n",
        "\n",
        "    return None, None"
      ],
      "metadata": {
        "id": "sGmCjJLBVLC4"
      },
      "execution_count": null,
      "outputs": []
    },
    {
      "cell_type": "markdown",
      "source": [
        "### BAG guiada por ecografía"
      ],
      "metadata": {
        "id": "MvsJX7bAYm63"
      }
    },
    {
      "cell_type": "code",
      "source": [
        "def asignar_cita_bag_ecografia(calendario: dict, paciente_id: str, nombre: str) -> tuple[str, str] | tuple[None, None]:\n",
        "    \"\"\"\n",
        "    Asigna automáticamente una cita para BAG por ecografía.\n",
        "    \"\"\"\n",
        "    for fecha, horas in calendario.items():\n",
        "        dia_semana = obtener_dia_semana(fecha)\n",
        "\n",
        "        for hora, info in horas.items():\n",
        "            if info is not None and info[\"estado\"] == \"ocupado\":\n",
        "                continue\n",
        "\n",
        "            if es_horario_bag_ecografia(hora, dia_semana):\n",
        "                horas[hora] = {\n",
        "                    \"estado\": \"ocupado\",\n",
        "                    \"prueba\": \"bag_ecografia\",\n",
        "                    \"paciente\": {\n",
        "                        \"id\": paciente_id,\n",
        "                        \"nombre\": nombre\n",
        "                    }\n",
        "                }\n",
        "                return fecha, hora\n",
        "\n",
        "    return None, None"
      ],
      "metadata": {
        "id": "4u_WwAzBYhdU"
      },
      "execution_count": null,
      "outputs": []
    },
    {
      "cell_type": "markdown",
      "source": [
        "### PAAF guiada por ecografía"
      ],
      "metadata": {
        "id": "oX8fs4RvbO24"
      }
    },
    {
      "cell_type": "code",
      "source": [
        "def asignar_cita_paaf_ecografia(calendario: dict, paciente_id: str, nombre: str) -> tuple[str, str] | tuple[None, None]:\n",
        "\n",
        "    for fecha, horas in calendario.items():\n",
        "        dia_semana = obtener_dia_semana(fecha)\n",
        "\n",
        "        for hora, info in horas.items():\n",
        "            if info is not None and info[\"estado\"] == \"ocupado\":\n",
        "                continue\n",
        "\n",
        "            if es_horario_paaf_ecografia(hora, dia_semana):\n",
        "                horas[hora] = {\n",
        "                    \"estado\": \"ocupado\",\n",
        "                    \"prueba\": \"paaf_ecografia\",\n",
        "                    \"paciente\": {\n",
        "                        \"id\": paciente_id,\n",
        "                        \"nombre\": nombre\n",
        "                    }\n",
        "                }\n",
        "                return fecha, hora\n",
        "\n",
        "    return None, None"
      ],
      "metadata": {
        "id": "6Xr2tPmpbOXO"
      },
      "execution_count": null,
      "outputs": []
    },
    {
      "cell_type": "markdown",
      "source": [
        "# Sala Resonancia Magnética"
      ],
      "metadata": {
        "id": "ad0pfeM_gBGI"
      }
    },
    {
      "cell_type": "code",
      "source": [
        "def asignar_cita_resonancia_magnetica(calendario: dict, paciente_id: str, nombre: str) -> tuple[str, str] | tuple[None, None]:\n",
        "    for fecha, agenda_dia in calendario.items():\n",
        "        dia_semana = obtener_dia_semana(fecha)\n",
        "        if dia_semana.lower() != \"lunes\":\n",
        "            continue\n",
        "\n",
        "        for hora, info in agenda_dia.items():\n",
        "            if (\n",
        "                (info is None or info.get(\"estado\") != \"ocupado\")\n",
        "                and es_horario_resonancia_magnetica(hora)\n",
        "            ):\n",
        "                agenda_dia[hora] = {\n",
        "                    \"estado\": \"ocupado\",\n",
        "                    \"paciente\": {\"id\": paciente_id, \"nombre\": nombre},\n",
        "                    \"prueba\": \"resonancia_magnetica\"\n",
        "                }\n",
        "                return fecha, hora\n",
        "\n",
        "    return None, None"
      ],
      "metadata": {
        "id": "iVweMVJpPboY"
      },
      "execution_count": null,
      "outputs": []
    },
    {
      "cell_type": "markdown",
      "source": [
        "##Diccionario de funciones de asignación"
      ],
      "metadata": {
        "id": "HTeTqnobVoj3"
      }
    },
    {
      "cell_type": "code",
      "source": [
        "asignadores_por_prueba = {\n",
        "    \"bav_por_etx\": asignar_cita_bav_por_etx,\n",
        "    \"arpon\": asignar_cita_arpon,\n",
        "    \"tx_mamografia\": asignar_cita_tx_mamografia,\n",
        "    \"mamografia_con_contraste\": asignar_cita_mamografia_con_contraste,\n",
        "\n",
        "    \"ecografia\": asignar_cita_ecografia,  # con tipo_ecografia\n",
        "    \"bag_ecografia\": asignar_cita_bag_ecografia,\n",
        "    \"paaf_ecografia\": asignar_cita_paaf_ecografia,\n",
        "\n",
        "    \"resonancia_magnetica\": asignar_cita_resonancia_magnetica\n",
        "}"
      ],
      "metadata": {
        "id": "A34cRymXcji4"
      },
      "execution_count": null,
      "outputs": []
    },
    {
      "cell_type": "markdown",
      "source": [
        "# **OPTIMIZACIÓN DE LA CITACIÓN POR PRIORIDAD**"
      ],
      "metadata": {
        "id": "P4c1Wk6LjZNs"
      }
    },
    {
      "cell_type": "code",
      "source": [
        "PRIORIDADES_POR_PRUEBA = {\n",
        "    \"tx_mamografia\": [\"urgente\", \"preferente\", \"ordinaria\"],\n",
        "    \"mamografia_con_contraste\": [\"urgente\", \"preferente\", \"ordinaria\"],\n",
        "    \"bav_por_etx\": [\"urgente\"],\n",
        "    \"arpon\": [\"urgente\"],\n",
        "    \"ecografia_prioritaria\": [\"urgente\", \"preferente\"],\n",
        "    \"ecografia_ordinaria\": [\"ordinaria\"],\n",
        "    \"ecografia_revaloracion\": [\"urgente\", \"preferente\"],\n",
        "    \"ecografia_con_contraste\": [\"urgente\", \"preferente\"],\n",
        "    \"bag_ecografia\": [\"urgente\", \"preferente\", \"ordinaria\"],\n",
        "    \"paaf_ecografia\": [\"urgente\", \"preferente\", \"ordinaria\"],\n",
        "    \"bav_rm\": [\"urgente\"],\n",
        "    \"resonancia_magnetica\": [\"urgente\", \"preferente\", \"ordinaria\"],\n",
        "}\n",
        "\n",
        "PUNTOS_PRIORIDAD = {\n",
        "    \"urgente\": 1,\n",
        "    \"preferente\": 2,\n",
        "    \"ordinaria\": 3\n",
        "}"
      ],
      "metadata": {
        "id": "Ou6CKkXTjf0U"
      },
      "execution_count": null,
      "outputs": []
    },
    {
      "cell_type": "markdown",
      "source": [
        "### Diccionario de la sala en la que se realiza cada prueba"
      ],
      "metadata": {
        "id": "4-5l2Ut64V3J"
      }
    },
    {
      "cell_type": "code",
      "source": [
        "sala_por_prueba = {\n",
        "    # Sala 7 - Mamografía\n",
        "    \"bav_por_etx\": \"S7_Mamografia\",\n",
        "    \"arpon\": \"S7_Mamografia\",\n",
        "    \"tx_mamografia\": \"S7_Mamografia\",\n",
        "    \"mamografia_con_contraste\": \"S7_Mamografia\",\n",
        "\n",
        "    # Sala 7 - Ecografía\n",
        "    \"ecografia\": \"S7_Ecografia\",  # Se requiere tipo_ecografia adicional\n",
        "    \"bag_ecografia\": \"S7_Ecografia\",\n",
        "    \"paaf_ecografia\": \"S7_Ecografia\",\n",
        "\n",
        "    # Sala de Resonancia Magnética\n",
        "    \"resonancia_magnetica\": \"Resonancia\"\n",
        "}"
      ],
      "metadata": {
        "id": "xA4uuOBhhXDd"
      },
      "execution_count": null,
      "outputs": []
    },
    {
      "cell_type": "code",
      "source": [
        "from functools import partial\n",
        "\n",
        "reglas_clinicas_por_prueba = {\n",
        "    \"ecografia\": lambda hora, dia, tipo: es_horario_ecografia_s7(hora, dia, tipo),\n",
        "    \"bag_ecografia\": lambda hora, dia: es_horario_bag_ecografia(hora, dia),\n",
        "    \"paaf_ecografia\": lambda hora, dia: es_horario_paaf_ecografia(hora, dia),\n",
        "\n",
        "    \"bav_por_etx\": es_horario_bav_por_etx,\n",
        "    \"arpon\": es_horario_arpon,\n",
        "    \"tx_mamografia\": es_horario_tx_mamografia,\n",
        "    \"mamografia_con_contraste\": es_horario_mamografia_con_contraste,\n",
        "\n",
        "    \"resonancia_magnetica\": lambda hora, dia: es_horario_resonancia_magnetica(hora),\n",
        "}"
      ],
      "metadata": {
        "id": "lJ5PCX9exO9n"
      },
      "execution_count": null,
      "outputs": []
    },
    {
      "cell_type": "markdown",
      "source": [
        "### Lista de espera de los pacientes"
      ],
      "metadata": {
        "id": "UCJnHVNHN86h"
      }
    },
    {
      "cell_type": "code",
      "source": [
        "lista_espera = []"
      ],
      "metadata": {
        "id": "_8phYwiLOzNv"
      },
      "execution_count": null,
      "outputs": []
    },
    {
      "cell_type": "code",
      "source": [
        "def añadir_a_lista_espera(\n",
        "    tipo_prueba: str,\n",
        "    paciente_id: str,\n",
        "    nombre: str,\n",
        "    prioridad: str,\n",
        "    tipo_ecografia: str = None\n",
        "):\n",
        "    paciente = {\n",
        "        \"tipo_prueba\": tipo_prueba,\n",
        "        \"tipo_ecografia\": tipo_ecografia,\n",
        "        \"id\": paciente_id,\n",
        "        \"nombre\": nombre,\n",
        "        \"prioridad\": prioridad\n",
        "    }\n",
        "    lista_espera.append(paciente)\n",
        "    print(f\"Paciente {nombre} añadido a la lista de espera ({prioridad})\")"
      ],
      "metadata": {
        "id": "7iq0MCy8N8cW"
      },
      "execution_count": null,
      "outputs": []
    },
    {
      "cell_type": "code",
      "source": [
        "añadir_a_lista_espera(\"ecografia\", \"123456\", \"Lucía García\", \"urgente\", tipo_ecografia=\"revaloracion\")\n",
        "añadir_a_lista_espera(\"mamografia_con_contraste\", \"4561234\", \"Ana Pérez\", \"ordinaria\")"
      ],
      "metadata": {
        "colab": {
          "base_uri": "https://localhost:8080/"
        },
        "id": "f7u9bPapO72N",
        "outputId": "d75f6956-729d-4f83-8928-ec1289eb1763"
      },
      "execution_count": null,
      "outputs": [
        {
          "output_type": "stream",
          "name": "stdout",
          "text": [
            "Paciente Lucía García añadido a la lista de espera (urgente)\n",
            "Paciente Ana Pérez añadido a la lista de espera (ordinaria)\n"
          ]
        }
      ]
    },
    {
      "cell_type": "code",
      "source": [
        "añadir_a_lista_espera(\"ecografia\", \"12345678\", \"Lucía García\", \"preferente\", tipo_ecografia=\"revaloracion\")\n",
        "añadir_a_lista_espera(\"paaf_ecografia\", \"1234567\", \"Milagros Gómez\", \"preferente\")\n",
        "añadir_a_lista_espera(\"bag_ecografia\", \"1234567\", \"Blanca Gómez\", \"urgente\")\n",
        "añadir_a_lista_espera(\"ecografia\", \"0000000\", \"Gloria Pérez\", \"urgente\", tipo_ecografia=\"contraste\")\n",
        "añadir_a_lista_espera(\"ecografia\", \"98765432\", \"Laura López\", \"prioritaria\", tipo_ecografia=\"prioritaria\")\n",
        "añadir_a_lista_espera(\"mamografia_con_contraste\", \"98765432\", \"Mireia Lozano\", \"prioritaria\")\n",
        "añadir_a_lista_espera(\"arpon\", \"1234567\", \"Paula Gómez\", \"urgente\")\n",
        "añadir_a_lista_espera(\"arpon\", \"1234567\", \"Andrea Campos\", \"urgente\")\n",
        "añadir_a_lista_espera(\"ecografia\", \"98765432\", \"Carlos Martínez\", \"preferente\", tipo_ecografia=\"revaloracion\")\n",
        "añadir_a_lista_espera(\"tx_mamografia\", \"12345678\", \"María López\", \"ordinaria\")\n",
        "añadir_a_lista_espera(\"resonancia_magnetica\", \"12345678\", \"Lucía García\", \"urgente\")\n",
        "añadir_a_lista_espera(\"tx_mamografia\", \"12345678\", \"Marta López\", \"ordinaria\")"
      ],
      "metadata": {
        "colab": {
          "base_uri": "https://localhost:8080/"
        },
        "id": "oMVs9U1XQvrU",
        "outputId": "9c3197be-b542-4f34-e431-05ed95e7acca"
      },
      "execution_count": null,
      "outputs": [
        {
          "output_type": "stream",
          "name": "stdout",
          "text": [
            "Paciente Lucía García añadido a la lista de espera (preferente)\n",
            "Paciente Milagros Gómez añadido a la lista de espera (preferente)\n",
            "Paciente Blanca Gómez añadido a la lista de espera (urgente)\n",
            "Paciente Gloria Pérez añadido a la lista de espera (urgente)\n",
            "Paciente Laura López añadido a la lista de espera (prioritaria)\n",
            "Paciente Mireia Lozano añadido a la lista de espera (prioritaria)\n",
            "Paciente Paula Gómez añadido a la lista de espera (urgente)\n",
            "Paciente Andrea Campos añadido a la lista de espera (urgente)\n",
            "Paciente Carlos Martínez añadido a la lista de espera (preferente)\n",
            "Paciente María López añadido a la lista de espera (ordinaria)\n",
            "Paciente Lucía García añadido a la lista de espera (urgente)\n",
            "Paciente Marta López añadido a la lista de espera (ordinaria)\n"
          ]
        }
      ]
    },
    {
      "cell_type": "markdown",
      "source": [
        "### Función de optimización por prioridad"
      ],
      "metadata": {
        "id": "5fZouyyGSYpJ"
      }
    },
    {
      "cell_type": "code",
      "source": [
        "def optimizar_desde_lista_espera(\n",
        "    calendario_por_sala: dict,\n",
        "    reglas_clinicas_por_prueba: dict,\n",
        "    sala_por_prueba: dict\n",
        ") -> list[tuple]:\n",
        "\n",
        "    # 1. Ordenar los pacientes según nivel de prioridad\n",
        "    lista_espera.sort(key=lambda p: PUNTOS_PRIORIDAD.get(p.get(\"prioridad\", \"ordinaria\"), 99))\n",
        "\n",
        "    asignaciones = []\n",
        "\n",
        "    for paciente in lista_espera:\n",
        "        tipo = paciente[\"tipo_prueba\"]\n",
        "        prioridad = paciente.get(\"prioridad\")\n",
        "        regla = reglas_clinicas_por_prueba.get(tipo)\n",
        "        sala = sala_por_prueba.get(tipo)\n",
        "\n",
        "        if not regla or not sala:\n",
        "            print(f\"Faltan datos para asignar {paciente['nombre']} ({tipo})\")\n",
        "            continue\n",
        "\n",
        "        calendario = calendario_por_sala.get(sala)\n",
        "        if not calendario:\n",
        "            print(f\"No hay calendario para la sala {sala}\")\n",
        "            continue\n",
        "\n",
        "        asignado = False\n",
        "\n",
        "        for fecha in sorted(calendario):\n",
        "            dia = obtener_dia_semana(fecha)\n",
        "\n",
        "            for hora in sorted(calendario[fecha]):\n",
        "                slot = calendario[fecha][hora]\n",
        "                if slot is None and regla(hora, dia):\n",
        "                    calendario[fecha][hora] = {\n",
        "                        \"estado\": \"ocupado\",\n",
        "                        \"tipo_prueba\": tipo,\n",
        "                        \"paciente\": {\n",
        "                            \"id\": paciente[\"paciente_id\"],\n",
        "                            \"nombre\": paciente[\"nombre\"],\n",
        "                            \"prioridad\": prioridad\n",
        "                        }\n",
        "                    }\n",
        "                    asignaciones.append((paciente[\"paciente_id\"], paciente[\"nombre\"], tipo, prioridad, fecha, hora))\n",
        "                    asignado = True\n",
        "                    break\n",
        "\n",
        "            if asignado:\n",
        "                break\n",
        "\n",
        "        if not asignado:\n",
        "            print(f\"No se encontró hueco para {paciente['nombre']} ({tipo})\")\n",
        "\n",
        "    # Limpiar la lista una vez optimizado\n",
        "    lista_espera.clear()\n",
        "    return asignaciones"
      ],
      "metadata": {
        "id": "VfbLmgDkPUjP"
      },
      "execution_count": null,
      "outputs": []
    },
    {
      "cell_type": "markdown",
      "source": [
        "### Función de asignación de pacientes desde la lista de espera"
      ],
      "metadata": {
        "id": "OhRS1wtcSd-9"
      }
    },
    {
      "cell_type": "code",
      "source": [
        "def asignar_desde_lista_espera():\n",
        "    for paciente in lista_espera:\n",
        "        tipo_prueba = paciente[\"tipo_prueba\"]\n",
        "        paciente_id = paciente[\"id\"]\n",
        "        nombre = paciente[\"nombre\"]\n",
        "        prioridad = paciente[\"prioridad\"]\n",
        "        tipo_ecografia = paciente.get(\"tipo_ecografia\")\n",
        "\n",
        "        if tipo_prueba == \"ecografia\":\n",
        "            if not tipo_ecografia:\n",
        "                print(f\"{nombre}: Debes especificar el tipo de ecografía.\")\n",
        "                continue\n",
        "            tipo_final = \"ecografia\"\n",
        "        else:\n",
        "            tipo_final = tipo_prueba\n",
        "\n",
        "        regla = reglas_clinicas_por_prueba.get(tipo_final)\n",
        "        sala = sala_por_prueba.get(tipo_final)\n",
        "\n",
        "        if not regla or not sala:\n",
        "            print(f\"{nombre}: No hay reglas o sala definida para la prueba '{tipo_final}'\")\n",
        "            continue\n",
        "\n",
        "        calendario = calendarios_por_sala.get(sala)\n",
        "        if not calendario:\n",
        "            print(f\"{nombre}: No hay calendario disponible para la sala '{sala}'\")\n",
        "            continue\n",
        "\n",
        "        asignado = False\n",
        "\n",
        "        for fecha in sorted(calendario):\n",
        "            dia = obtener_dia_semana(fecha)\n",
        "\n",
        "            for hora in sorted(calendario[fecha]):\n",
        "                slot = calendario[fecha][hora]\n",
        "\n",
        "                if slot is None:\n",
        "                    if tipo_prueba == \"ecografia\":\n",
        "                        es_valido = regla(hora, dia, tipo_ecografia)\n",
        "                    else:\n",
        "                        es_valido = regla(hora, dia)\n",
        "\n",
        "                    if es_valido:\n",
        "                        calendario[fecha][hora] = {\n",
        "                            \"estado\": \"ocupado\",\n",
        "                            \"tipo_prueba\": tipo_final,\n",
        "                            \"paciente\": {\n",
        "                                \"id\": paciente_id,\n",
        "                                \"nombre\": nombre,\n",
        "                                \"prioridad\": prioridad\n",
        "                            }\n",
        "                        }\n",
        "                        print(f\"{nombre} ({prioridad}) asignado a {fecha} a las {hora} en {sala}\")\n",
        "                        asignado = True\n",
        "                        break\n",
        "            if asignado:\n",
        "                break\n",
        "\n",
        "        if not asignado:\n",
        "            print(f\"No hay huecos disponibles para {nombre} ({tipo_prueba})\")\n",
        "\n"
      ],
      "metadata": {
        "id": "LwTnKVzdSdmg"
      },
      "execution_count": null,
      "outputs": []
    },
    {
      "cell_type": "code",
      "source": [
        "asignar_desde_lista_espera()"
      ],
      "metadata": {
        "colab": {
          "base_uri": "https://localhost:8080/"
        },
        "id": "a6I1N-U6SkuQ",
        "outputId": "25592c26-2c60-42b2-c7b2-f31a3d8d6062"
      },
      "execution_count": null,
      "outputs": [
        {
          "output_type": "stream",
          "name": "stdout",
          "text": [
            "Lucía García (urgente) asignado a 2025-07-07 a las 09:00 en S7_Ecografia\n",
            "Ana Pérez (ordinaria) asignado a 2025-07-09 a las 08:45 en S7_Mamografia\n",
            "Lucía García (preferente) asignado a 2025-07-07 a las 09:30 en S7_Ecografia\n",
            "Milagros Gómez (preferente) asignado a 2025-07-08 a las 09:30 en S7_Ecografia\n",
            "Blanca Gómez (urgente) asignado a 2025-07-08 a las 10:30 en S7_Ecografia\n",
            "Gloria Pérez (urgente) asignado a 2025-07-07 a las 10:00 en S7_Ecografia\n",
            "Laura López (prioritaria) asignado a 2025-07-08 a las 09:00 en S7_Ecografia\n",
            "Mireia Lozano (prioritaria) asignado a 2025-07-09 a las 09:30 en S7_Mamografia\n",
            "Paula Gómez (urgente) asignado a 2025-07-08 a las 08:30 en S7_Mamografia\n",
            "Andrea Campos (urgente) asignado a 2025-07-08 a las 09:15 en S7_Mamografia\n",
            "Carlos Martínez (preferente) asignado a 2025-07-07 a las 10:30 en S7_Ecografia\n",
            "María López (ordinaria) asignado a 2025-07-07 a las 08:30 en S7_Mamografia\n",
            "Lucía García (urgente) asignado a 2025-07-07 a las 08:45 en Resonancia\n",
            "Marta López (ordinaria) asignado a 2025-07-07 a las 08:45 en S7_Mamografia\n"
          ]
        }
      ]
    },
    {
      "cell_type": "code",
      "source": [
        "def mostrar_calendario(calendario: dict, titulo: str = \"Calendario\"):\n",
        "    print(f\"\\n=== {titulo} ===\")\n",
        "    for fecha in sorted(calendario):\n",
        "        print(f\"\\n📅 {fecha}\")\n",
        "        horas = calendario[fecha]\n",
        "        for hora in sorted(horas):\n",
        "            info = horas[hora]\n",
        "            if info is None:\n",
        "                estado = \"🟩 LIBRE\"\n",
        "            else:\n",
        "                estado = \"🟥 OCUPADO\"\n",
        "                tipo = info.get(\"tipo_prueba\") or info.get(\"prueba\") or \"N/A\"\n",
        "                paciente = info.get(\"paciente\", {})\n",
        "                nombre = paciente.get(\"nombre\")\n",
        "                estado += f\" | {tipo} | {nombre}\"\n",
        "            print(f\"  ⏰ {hora}: {estado}\")"
      ],
      "metadata": {
        "id": "RzZcWtY94iMx"
      },
      "execution_count": null,
      "outputs": []
    },
    {
      "cell_type": "code",
      "source": [
        "mostrar_calendario(calendarios_por_sala[\"S7_Mamografia\"])"
      ],
      "metadata": {
        "colab": {
          "base_uri": "https://localhost:8080/"
        },
        "id": "z-aG5s1I4vWy",
        "outputId": "000435c2-92de-48df-c8cd-2dadca5d05ad"
      },
      "execution_count": null,
      "outputs": [
        {
          "output_type": "stream",
          "name": "stdout",
          "text": [
            "\n",
            "=== Calendario ===\n",
            "\n",
            "📅 2025-07-07\n",
            "  ⏰ 08:00: 🟩 LIBRE\n",
            "  ⏰ 08:15: 🟩 LIBRE\n",
            "  ⏰ 08:30: 🟥 OCUPADO | tx_mamografia | María López\n",
            "  ⏰ 08:45: 🟥 OCUPADO | tx_mamografia | Marta López\n",
            "  ⏰ 09:00: 🟩 LIBRE\n",
            "  ⏰ 09:15: 🟩 LIBRE\n",
            "  ⏰ 09:30: 🟩 LIBRE\n",
            "  ⏰ 09:45: 🟩 LIBRE\n",
            "  ⏰ 10:00: 🟩 LIBRE\n",
            "  ⏰ 10:15: 🟩 LIBRE\n",
            "  ⏰ 10:30: 🟩 LIBRE\n",
            "  ⏰ 10:45: 🟩 LIBRE\n",
            "  ⏰ 11:00: 🟩 LIBRE\n",
            "  ⏰ 11:15: 🟩 LIBRE\n",
            "  ⏰ 11:30: 🟩 LIBRE\n",
            "  ⏰ 11:45: 🟩 LIBRE\n",
            "  ⏰ 12:00: 🟩 LIBRE\n",
            "  ⏰ 12:15: 🟩 LIBRE\n",
            "  ⏰ 12:30: 🟩 LIBRE\n",
            "  ⏰ 12:45: 🟩 LIBRE\n",
            "  ⏰ 13:00: 🟩 LIBRE\n",
            "  ⏰ 13:15: 🟩 LIBRE\n",
            "  ⏰ 13:30: 🟩 LIBRE\n",
            "  ⏰ 13:45: 🟩 LIBRE\n",
            "\n",
            "📅 2025-07-08\n",
            "  ⏰ 08:00: 🟩 LIBRE\n",
            "  ⏰ 08:15: 🟩 LIBRE\n",
            "  ⏰ 08:30: 🟥 OCUPADO | arpon | Paula Gómez\n",
            "  ⏰ 08:45: 🟩 LIBRE\n",
            "  ⏰ 09:00: 🟩 LIBRE\n",
            "  ⏰ 09:15: 🟥 OCUPADO | arpon | Andrea Campos\n",
            "  ⏰ 09:30: 🟩 LIBRE\n",
            "  ⏰ 09:45: 🟩 LIBRE\n",
            "  ⏰ 10:00: 🟩 LIBRE\n",
            "  ⏰ 10:15: 🟩 LIBRE\n",
            "  ⏰ 10:30: 🟩 LIBRE\n",
            "  ⏰ 10:45: 🟩 LIBRE\n",
            "  ⏰ 11:00: 🟩 LIBRE\n",
            "  ⏰ 11:15: 🟩 LIBRE\n",
            "  ⏰ 11:30: 🟩 LIBRE\n",
            "  ⏰ 11:45: 🟩 LIBRE\n",
            "  ⏰ 12:00: 🟩 LIBRE\n",
            "  ⏰ 12:15: 🟩 LIBRE\n",
            "  ⏰ 12:30: 🟩 LIBRE\n",
            "  ⏰ 12:45: 🟩 LIBRE\n",
            "  ⏰ 13:00: 🟩 LIBRE\n",
            "  ⏰ 13:15: 🟩 LIBRE\n",
            "  ⏰ 13:30: 🟩 LIBRE\n",
            "  ⏰ 13:45: 🟩 LIBRE\n",
            "\n",
            "📅 2025-07-09\n",
            "  ⏰ 08:00: 🟩 LIBRE\n",
            "  ⏰ 08:15: 🟩 LIBRE\n",
            "  ⏰ 08:30: 🟩 LIBRE\n",
            "  ⏰ 08:45: 🟥 OCUPADO | mamografia_con_contraste | Ana Pérez\n",
            "  ⏰ 09:00: 🟩 LIBRE\n",
            "  ⏰ 09:15: 🟩 LIBRE\n",
            "  ⏰ 09:30: 🟥 OCUPADO | mamografia_con_contraste | Mireia Lozano\n",
            "  ⏰ 09:45: 🟩 LIBRE\n",
            "  ⏰ 10:00: 🟩 LIBRE\n",
            "  ⏰ 10:15: 🟩 LIBRE\n",
            "  ⏰ 10:30: 🟩 LIBRE\n",
            "  ⏰ 10:45: 🟩 LIBRE\n",
            "  ⏰ 11:00: 🟩 LIBRE\n",
            "  ⏰ 11:15: 🟩 LIBRE\n",
            "  ⏰ 11:30: 🟩 LIBRE\n",
            "  ⏰ 11:45: 🟩 LIBRE\n",
            "  ⏰ 12:00: 🟩 LIBRE\n",
            "  ⏰ 12:15: 🟩 LIBRE\n",
            "  ⏰ 12:30: 🟩 LIBRE\n",
            "  ⏰ 12:45: 🟩 LIBRE\n",
            "  ⏰ 13:00: 🟩 LIBRE\n",
            "  ⏰ 13:15: 🟩 LIBRE\n",
            "  ⏰ 13:30: 🟩 LIBRE\n",
            "  ⏰ 13:45: 🟩 LIBRE\n",
            "\n",
            "📅 2025-07-10\n",
            "  ⏰ 08:00: 🟩 LIBRE\n",
            "  ⏰ 08:15: 🟩 LIBRE\n",
            "  ⏰ 08:30: 🟩 LIBRE\n",
            "  ⏰ 08:45: 🟩 LIBRE\n",
            "  ⏰ 09:00: 🟩 LIBRE\n",
            "  ⏰ 09:15: 🟩 LIBRE\n",
            "  ⏰ 09:30: 🟩 LIBRE\n",
            "  ⏰ 09:45: 🟩 LIBRE\n",
            "  ⏰ 10:00: 🟩 LIBRE\n",
            "  ⏰ 10:15: 🟩 LIBRE\n",
            "  ⏰ 10:30: 🟩 LIBRE\n",
            "  ⏰ 10:45: 🟩 LIBRE\n",
            "  ⏰ 11:00: 🟩 LIBRE\n",
            "  ⏰ 11:15: 🟩 LIBRE\n",
            "  ⏰ 11:30: 🟩 LIBRE\n",
            "  ⏰ 11:45: 🟩 LIBRE\n",
            "  ⏰ 12:00: 🟩 LIBRE\n",
            "  ⏰ 12:15: 🟩 LIBRE\n",
            "  ⏰ 12:30: 🟩 LIBRE\n",
            "  ⏰ 12:45: 🟩 LIBRE\n",
            "  ⏰ 13:00: 🟩 LIBRE\n",
            "  ⏰ 13:15: 🟩 LIBRE\n",
            "  ⏰ 13:30: 🟩 LIBRE\n",
            "  ⏰ 13:45: 🟩 LIBRE\n",
            "\n",
            "📅 2025-07-11\n",
            "  ⏰ 08:00: 🟩 LIBRE\n",
            "  ⏰ 08:15: 🟩 LIBRE\n",
            "  ⏰ 08:30: 🟩 LIBRE\n",
            "  ⏰ 08:45: 🟩 LIBRE\n",
            "  ⏰ 09:00: 🟩 LIBRE\n",
            "  ⏰ 09:15: 🟩 LIBRE\n",
            "  ⏰ 09:30: 🟩 LIBRE\n",
            "  ⏰ 09:45: 🟩 LIBRE\n",
            "  ⏰ 10:00: 🟩 LIBRE\n",
            "  ⏰ 10:15: 🟩 LIBRE\n",
            "  ⏰ 10:30: 🟩 LIBRE\n",
            "  ⏰ 10:45: 🟩 LIBRE\n",
            "  ⏰ 11:00: 🟩 LIBRE\n",
            "  ⏰ 11:15: 🟩 LIBRE\n",
            "  ⏰ 11:30: 🟩 LIBRE\n",
            "  ⏰ 11:45: 🟩 LIBRE\n",
            "  ⏰ 12:00: 🟩 LIBRE\n",
            "  ⏰ 12:15: 🟩 LIBRE\n",
            "  ⏰ 12:30: 🟩 LIBRE\n",
            "  ⏰ 12:45: 🟩 LIBRE\n",
            "  ⏰ 13:00: 🟩 LIBRE\n",
            "  ⏰ 13:15: 🟩 LIBRE\n",
            "  ⏰ 13:30: 🟩 LIBRE\n",
            "  ⏰ 13:45: 🟩 LIBRE\n",
            "\n",
            "📅 2025-07-12\n",
            "  ⏰ 08:00: 🟩 LIBRE\n",
            "  ⏰ 08:15: 🟩 LIBRE\n",
            "  ⏰ 08:30: 🟩 LIBRE\n",
            "  ⏰ 08:45: 🟩 LIBRE\n",
            "  ⏰ 09:00: 🟩 LIBRE\n",
            "  ⏰ 09:15: 🟩 LIBRE\n",
            "  ⏰ 09:30: 🟩 LIBRE\n",
            "  ⏰ 09:45: 🟩 LIBRE\n",
            "  ⏰ 10:00: 🟩 LIBRE\n",
            "  ⏰ 10:15: 🟩 LIBRE\n",
            "  ⏰ 10:30: 🟩 LIBRE\n",
            "  ⏰ 10:45: 🟩 LIBRE\n",
            "  ⏰ 11:00: 🟩 LIBRE\n",
            "  ⏰ 11:15: 🟩 LIBRE\n",
            "  ⏰ 11:30: 🟩 LIBRE\n",
            "  ⏰ 11:45: 🟩 LIBRE\n",
            "  ⏰ 12:00: 🟩 LIBRE\n",
            "  ⏰ 12:15: 🟩 LIBRE\n",
            "  ⏰ 12:30: 🟩 LIBRE\n",
            "  ⏰ 12:45: 🟩 LIBRE\n",
            "  ⏰ 13:00: 🟩 LIBRE\n",
            "  ⏰ 13:15: 🟩 LIBRE\n",
            "  ⏰ 13:30: 🟩 LIBRE\n",
            "  ⏰ 13:45: 🟩 LIBRE\n",
            "\n",
            "📅 2025-07-13\n",
            "  ⏰ 08:00: 🟩 LIBRE\n",
            "  ⏰ 08:15: 🟩 LIBRE\n",
            "  ⏰ 08:30: 🟩 LIBRE\n",
            "  ⏰ 08:45: 🟩 LIBRE\n",
            "  ⏰ 09:00: 🟩 LIBRE\n",
            "  ⏰ 09:15: 🟩 LIBRE\n",
            "  ⏰ 09:30: 🟩 LIBRE\n",
            "  ⏰ 09:45: 🟩 LIBRE\n",
            "  ⏰ 10:00: 🟩 LIBRE\n",
            "  ⏰ 10:15: 🟩 LIBRE\n",
            "  ⏰ 10:30: 🟩 LIBRE\n",
            "  ⏰ 10:45: 🟩 LIBRE\n",
            "  ⏰ 11:00: 🟩 LIBRE\n",
            "  ⏰ 11:15: 🟩 LIBRE\n",
            "  ⏰ 11:30: 🟩 LIBRE\n",
            "  ⏰ 11:45: 🟩 LIBRE\n",
            "  ⏰ 12:00: 🟩 LIBRE\n",
            "  ⏰ 12:15: 🟩 LIBRE\n",
            "  ⏰ 12:30: 🟩 LIBRE\n",
            "  ⏰ 12:45: 🟩 LIBRE\n",
            "  ⏰ 13:00: 🟩 LIBRE\n",
            "  ⏰ 13:15: 🟩 LIBRE\n",
            "  ⏰ 13:30: 🟩 LIBRE\n",
            "  ⏰ 13:45: 🟩 LIBRE\n"
          ]
        }
      ]
    }
  ]
}